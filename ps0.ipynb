{
 "cells": [
  {
   "cell_type": "markdown",
   "metadata": {
    "id": "xTKiGPkJ5qRy"
   },
   "source": [
    "# PSET 0: C++ Review & Matrix Multiplication\n",
    "\n",
    "This problem set is designed to refresh your C++ skills and then get your matrix chops warmed up via a simple multiplication implementation. You will work through problems that cover C++ basics, arrays, dynamic memory, and templates. Each C++ section builds on the previous one, so make sure to work through them in order.\n",
    "\n",
    "You can compile and run your C++ code within this notebook. Follow the instructions provided in each section.  We will run autograder tests on your work (you should be able to see the results in Gradescope).  For a few problems, the autograder tests are embedded right in your notebook and you can run them yourself!\n",
    "\n",
    "Try not to add additional cells nor rearrange any that exist now as it will mess with our autograder (but feel free to open another Colab/notebook on the side).\n",
    "\n",
    "### Make sure to submit your final notebook with all of your solutions to Gradescope!\n",
    "[Direct Gradescope Link](https://www.gradescope.com/courses/1048026)"
   ]
  },
  {
   "cell_type": "markdown",
   "metadata": {
    "id": "TOusEnXk5qRz"
   },
   "source": [
    "### Before Starting\n",
    "\n",
    "We're in an interactive _Python_ notebook.  So, of course, running C++ code is not going to be as easy as it is to run Python code.  That said, we can use a helper (just a Python wrapper to ingest and spit out a `.cpp` file) to make this cleaner.  Start by importing it below."
   ]
  },
  {
   "cell_type": "code",
   "execution_count": 2,
   "metadata": {
    "colab": {
     "base_uri": "https://localhost:8080/"
    },
    "id": "_t8fU8-85qR0",
    "outputId": "dfb74410-0f4a-4377-8f65-74386e125e8b"
   },
   "outputs": [
    {
     "name": "stdout",
     "output_type": "stream",
     "text": [
      "  % Total    % Received % Xferd  Average Speed   Time    Time     Time  Current\n",
      "                                 Dload  Upload   Total   Spent    Left  Speed\n",
      "100  2599  100  2599    0     0  14009      0 --:--:-- --:--:-- --:--:-- 14125\n",
      "Requirement already satisfied: pygments in /opt/anaconda3/lib/python3.12/site-packages (2.15.1)\n",
      "Requirement already satisfied: ipywidgets in /opt/anaconda3/lib/python3.12/site-packages (7.8.1)\n",
      "Requirement already satisfied: comm>=0.1.3 in /opt/anaconda3/lib/python3.12/site-packages (from ipywidgets) (0.2.1)\n",
      "Requirement already satisfied: ipython-genutils~=0.2.0 in /opt/anaconda3/lib/python3.12/site-packages (from ipywidgets) (0.2.0)\n",
      "Requirement already satisfied: traitlets>=4.3.1 in /opt/anaconda3/lib/python3.12/site-packages (from ipywidgets) (5.14.3)\n",
      "Requirement already satisfied: widgetsnbextension~=3.6.6 in /opt/anaconda3/lib/python3.12/site-packages (from ipywidgets) (3.6.6)\n",
      "Requirement already satisfied: ipython>=4.0.0 in /opt/anaconda3/lib/python3.12/site-packages (from ipywidgets) (8.27.0)\n",
      "Requirement already satisfied: jupyterlab-widgets<3,>=1.0.0 in /opt/anaconda3/lib/python3.12/site-packages (from ipywidgets) (1.0.0)\n",
      "Requirement already satisfied: decorator in /opt/anaconda3/lib/python3.12/site-packages (from ipython>=4.0.0->ipywidgets) (5.1.1)\n",
      "Requirement already satisfied: jedi>=0.16 in /opt/anaconda3/lib/python3.12/site-packages (from ipython>=4.0.0->ipywidgets) (0.19.1)\n",
      "Requirement already satisfied: matplotlib-inline in /opt/anaconda3/lib/python3.12/site-packages (from ipython>=4.0.0->ipywidgets) (0.1.6)\n",
      "Requirement already satisfied: prompt-toolkit<3.1.0,>=3.0.41 in /opt/anaconda3/lib/python3.12/site-packages (from ipython>=4.0.0->ipywidgets) (3.0.43)\n",
      "Requirement already satisfied: stack-data in /opt/anaconda3/lib/python3.12/site-packages (from ipython>=4.0.0->ipywidgets) (0.2.0)\n",
      "Requirement already satisfied: pexpect>4.3 in /opt/anaconda3/lib/python3.12/site-packages (from ipython>=4.0.0->ipywidgets) (4.8.0)\n",
      "Requirement already satisfied: notebook>=4.4.1 in /opt/anaconda3/lib/python3.12/site-packages (from widgetsnbextension~=3.6.6->ipywidgets) (7.2.2)\n",
      "Requirement already satisfied: parso<0.9.0,>=0.8.3 in /opt/anaconda3/lib/python3.12/site-packages (from jedi>=0.16->ipython>=4.0.0->ipywidgets) (0.8.3)\n",
      "Requirement already satisfied: jupyter-server<3,>=2.4.0 in /opt/anaconda3/lib/python3.12/site-packages (from notebook>=4.4.1->widgetsnbextension~=3.6.6->ipywidgets) (2.14.1)\n",
      "Requirement already satisfied: jupyterlab-server<3,>=2.27.1 in /opt/anaconda3/lib/python3.12/site-packages (from notebook>=4.4.1->widgetsnbextension~=3.6.6->ipywidgets) (2.27.3)\n",
      "Requirement already satisfied: jupyterlab<4.3,>=4.2.0 in /opt/anaconda3/lib/python3.12/site-packages (from notebook>=4.4.1->widgetsnbextension~=3.6.6->ipywidgets) (4.2.5)\n",
      "Requirement already satisfied: notebook-shim<0.3,>=0.2 in /opt/anaconda3/lib/python3.12/site-packages (from notebook>=4.4.1->widgetsnbextension~=3.6.6->ipywidgets) (0.2.3)\n",
      "Requirement already satisfied: tornado>=6.2.0 in /opt/anaconda3/lib/python3.12/site-packages (from notebook>=4.4.1->widgetsnbextension~=3.6.6->ipywidgets) (6.4.1)\n",
      "Requirement already satisfied: ptyprocess>=0.5 in /opt/anaconda3/lib/python3.12/site-packages (from pexpect>4.3->ipython>=4.0.0->ipywidgets) (0.7.0)\n",
      "Requirement already satisfied: wcwidth in /opt/anaconda3/lib/python3.12/site-packages (from prompt-toolkit<3.1.0,>=3.0.41->ipython>=4.0.0->ipywidgets) (0.2.5)\n",
      "Requirement already satisfied: executing in /opt/anaconda3/lib/python3.12/site-packages (from stack-data->ipython>=4.0.0->ipywidgets) (0.8.3)\n",
      "Requirement already satisfied: asttokens in /opt/anaconda3/lib/python3.12/site-packages (from stack-data->ipython>=4.0.0->ipywidgets) (2.0.5)\n",
      "Requirement already satisfied: pure-eval in /opt/anaconda3/lib/python3.12/site-packages (from stack-data->ipython>=4.0.0->ipywidgets) (0.2.2)\n",
      "Requirement already satisfied: anyio>=3.1.0 in /opt/anaconda3/lib/python3.12/site-packages (from jupyter-server<3,>=2.4.0->notebook>=4.4.1->widgetsnbextension~=3.6.6->ipywidgets) (4.2.0)\n",
      "Requirement already satisfied: argon2-cffi>=21.1 in /opt/anaconda3/lib/python3.12/site-packages (from jupyter-server<3,>=2.4.0->notebook>=4.4.1->widgetsnbextension~=3.6.6->ipywidgets) (21.3.0)\n",
      "Requirement already satisfied: jinja2>=3.0.3 in /opt/anaconda3/lib/python3.12/site-packages (from jupyter-server<3,>=2.4.0->notebook>=4.4.1->widgetsnbextension~=3.6.6->ipywidgets) (3.1.4)\n",
      "Requirement already satisfied: jupyter-client>=7.4.4 in /opt/anaconda3/lib/python3.12/site-packages (from jupyter-server<3,>=2.4.0->notebook>=4.4.1->widgetsnbextension~=3.6.6->ipywidgets) (8.6.0)\n",
      "Requirement already satisfied: jupyter-core!=5.0.*,>=4.12 in /opt/anaconda3/lib/python3.12/site-packages (from jupyter-server<3,>=2.4.0->notebook>=4.4.1->widgetsnbextension~=3.6.6->ipywidgets) (5.7.2)\n",
      "Requirement already satisfied: jupyter-events>=0.9.0 in /opt/anaconda3/lib/python3.12/site-packages (from jupyter-server<3,>=2.4.0->notebook>=4.4.1->widgetsnbextension~=3.6.6->ipywidgets) (0.10.0)\n",
      "Requirement already satisfied: jupyter-server-terminals>=0.4.4 in /opt/anaconda3/lib/python3.12/site-packages (from jupyter-server<3,>=2.4.0->notebook>=4.4.1->widgetsnbextension~=3.6.6->ipywidgets) (0.4.4)\n",
      "Requirement already satisfied: nbconvert>=6.4.4 in /opt/anaconda3/lib/python3.12/site-packages (from jupyter-server<3,>=2.4.0->notebook>=4.4.1->widgetsnbextension~=3.6.6->ipywidgets) (7.16.4)\n",
      "Requirement already satisfied: nbformat>=5.3.0 in /opt/anaconda3/lib/python3.12/site-packages (from jupyter-server<3,>=2.4.0->notebook>=4.4.1->widgetsnbextension~=3.6.6->ipywidgets) (5.10.4)\n",
      "Requirement already satisfied: overrides>=5.0 in /opt/anaconda3/lib/python3.12/site-packages (from jupyter-server<3,>=2.4.0->notebook>=4.4.1->widgetsnbextension~=3.6.6->ipywidgets) (7.4.0)\n",
      "Requirement already satisfied: packaging>=22.0 in /opt/anaconda3/lib/python3.12/site-packages (from jupyter-server<3,>=2.4.0->notebook>=4.4.1->widgetsnbextension~=3.6.6->ipywidgets) (24.1)\n",
      "Requirement already satisfied: prometheus-client>=0.9 in /opt/anaconda3/lib/python3.12/site-packages (from jupyter-server<3,>=2.4.0->notebook>=4.4.1->widgetsnbextension~=3.6.6->ipywidgets) (0.14.1)\n",
      "Requirement already satisfied: pyzmq>=24 in /opt/anaconda3/lib/python3.12/site-packages (from jupyter-server<3,>=2.4.0->notebook>=4.4.1->widgetsnbextension~=3.6.6->ipywidgets) (25.1.2)\n",
      "Requirement already satisfied: send2trash>=1.8.2 in /opt/anaconda3/lib/python3.12/site-packages (from jupyter-server<3,>=2.4.0->notebook>=4.4.1->widgetsnbextension~=3.6.6->ipywidgets) (1.8.2)\n",
      "Requirement already satisfied: terminado>=0.8.3 in /opt/anaconda3/lib/python3.12/site-packages (from jupyter-server<3,>=2.4.0->notebook>=4.4.1->widgetsnbextension~=3.6.6->ipywidgets) (0.17.1)\n",
      "Requirement already satisfied: websocket-client>=1.7 in /opt/anaconda3/lib/python3.12/site-packages (from jupyter-server<3,>=2.4.0->notebook>=4.4.1->widgetsnbextension~=3.6.6->ipywidgets) (1.8.0)\n",
      "Requirement already satisfied: async-lru>=1.0.0 in /opt/anaconda3/lib/python3.12/site-packages (from jupyterlab<4.3,>=4.2.0->notebook>=4.4.1->widgetsnbextension~=3.6.6->ipywidgets) (2.0.4)\n",
      "Requirement already satisfied: httpx>=0.25.0 in /opt/anaconda3/lib/python3.12/site-packages (from jupyterlab<4.3,>=4.2.0->notebook>=4.4.1->widgetsnbextension~=3.6.6->ipywidgets) (0.27.0)\n",
      "Requirement already satisfied: ipykernel>=6.5.0 in /opt/anaconda3/lib/python3.12/site-packages (from jupyterlab<4.3,>=4.2.0->notebook>=4.4.1->widgetsnbextension~=3.6.6->ipywidgets) (6.28.0)\n",
      "Requirement already satisfied: jupyter-lsp>=2.0.0 in /opt/anaconda3/lib/python3.12/site-packages (from jupyterlab<4.3,>=4.2.0->notebook>=4.4.1->widgetsnbextension~=3.6.6->ipywidgets) (2.2.0)\n",
      "Requirement already satisfied: setuptools>=40.1.0 in /opt/anaconda3/lib/python3.12/site-packages (from jupyterlab<4.3,>=4.2.0->notebook>=4.4.1->widgetsnbextension~=3.6.6->ipywidgets) (75.1.0)\n",
      "Requirement already satisfied: babel>=2.10 in /opt/anaconda3/lib/python3.12/site-packages (from jupyterlab-server<3,>=2.27.1->notebook>=4.4.1->widgetsnbextension~=3.6.6->ipywidgets) (2.11.0)\n",
      "Requirement already satisfied: json5>=0.9.0 in /opt/anaconda3/lib/python3.12/site-packages (from jupyterlab-server<3,>=2.27.1->notebook>=4.4.1->widgetsnbextension~=3.6.6->ipywidgets) (0.9.6)\n",
      "Requirement already satisfied: jsonschema>=4.18.0 in /opt/anaconda3/lib/python3.12/site-packages (from jupyterlab-server<3,>=2.27.1->notebook>=4.4.1->widgetsnbextension~=3.6.6->ipywidgets) (4.23.0)\n",
      "Requirement already satisfied: requests>=2.31 in /opt/anaconda3/lib/python3.12/site-packages (from jupyterlab-server<3,>=2.27.1->notebook>=4.4.1->widgetsnbextension~=3.6.6->ipywidgets) (2.32.3)\n",
      "Requirement already satisfied: six in /opt/anaconda3/lib/python3.12/site-packages (from asttokens->stack-data->ipython>=4.0.0->ipywidgets) (1.16.0)\n",
      "Requirement already satisfied: idna>=2.8 in /opt/anaconda3/lib/python3.12/site-packages (from anyio>=3.1.0->jupyter-server<3,>=2.4.0->notebook>=4.4.1->widgetsnbextension~=3.6.6->ipywidgets) (3.7)\n",
      "Requirement already satisfied: sniffio>=1.1 in /opt/anaconda3/lib/python3.12/site-packages (from anyio>=3.1.0->jupyter-server<3,>=2.4.0->notebook>=4.4.1->widgetsnbextension~=3.6.6->ipywidgets) (1.3.0)\n",
      "Requirement already satisfied: argon2-cffi-bindings in /opt/anaconda3/lib/python3.12/site-packages (from argon2-cffi>=21.1->jupyter-server<3,>=2.4.0->notebook>=4.4.1->widgetsnbextension~=3.6.6->ipywidgets) (21.2.0)\n",
      "Requirement already satisfied: pytz>=2015.7 in /opt/anaconda3/lib/python3.12/site-packages (from babel>=2.10->jupyterlab-server<3,>=2.27.1->notebook>=4.4.1->widgetsnbextension~=3.6.6->ipywidgets) (2024.1)\n",
      "Requirement already satisfied: certifi in /opt/anaconda3/lib/python3.12/site-packages (from httpx>=0.25.0->jupyterlab<4.3,>=4.2.0->notebook>=4.4.1->widgetsnbextension~=3.6.6->ipywidgets) (2024.8.30)\n",
      "Requirement already satisfied: httpcore==1.* in /opt/anaconda3/lib/python3.12/site-packages (from httpx>=0.25.0->jupyterlab<4.3,>=4.2.0->notebook>=4.4.1->widgetsnbextension~=3.6.6->ipywidgets) (1.0.2)\n",
      "Requirement already satisfied: h11<0.15,>=0.13 in /opt/anaconda3/lib/python3.12/site-packages (from httpcore==1.*->httpx>=0.25.0->jupyterlab<4.3,>=4.2.0->notebook>=4.4.1->widgetsnbextension~=3.6.6->ipywidgets) (0.14.0)\n",
      "Requirement already satisfied: appnope in /opt/anaconda3/lib/python3.12/site-packages (from ipykernel>=6.5.0->jupyterlab<4.3,>=4.2.0->notebook>=4.4.1->widgetsnbextension~=3.6.6->ipywidgets) (0.1.3)\n",
      "Requirement already satisfied: debugpy>=1.6.5 in /opt/anaconda3/lib/python3.12/site-packages (from ipykernel>=6.5.0->jupyterlab<4.3,>=4.2.0->notebook>=4.4.1->widgetsnbextension~=3.6.6->ipywidgets) (1.6.7)\n",
      "Requirement already satisfied: nest-asyncio in /opt/anaconda3/lib/python3.12/site-packages (from ipykernel>=6.5.0->jupyterlab<4.3,>=4.2.0->notebook>=4.4.1->widgetsnbextension~=3.6.6->ipywidgets) (1.6.0)\n",
      "Requirement already satisfied: psutil in /opt/anaconda3/lib/python3.12/site-packages (from ipykernel>=6.5.0->jupyterlab<4.3,>=4.2.0->notebook>=4.4.1->widgetsnbextension~=3.6.6->ipywidgets) (5.9.0)\n",
      "Requirement already satisfied: MarkupSafe>=2.0 in /opt/anaconda3/lib/python3.12/site-packages (from jinja2>=3.0.3->jupyter-server<3,>=2.4.0->notebook>=4.4.1->widgetsnbextension~=3.6.6->ipywidgets) (2.1.3)\n",
      "Requirement already satisfied: attrs>=22.2.0 in /opt/anaconda3/lib/python3.12/site-packages (from jsonschema>=4.18.0->jupyterlab-server<3,>=2.27.1->notebook>=4.4.1->widgetsnbextension~=3.6.6->ipywidgets) (23.1.0)\n",
      "Requirement already satisfied: jsonschema-specifications>=2023.03.6 in /opt/anaconda3/lib/python3.12/site-packages (from jsonschema>=4.18.0->jupyterlab-server<3,>=2.27.1->notebook>=4.4.1->widgetsnbextension~=3.6.6->ipywidgets) (2023.7.1)\n",
      "Requirement already satisfied: referencing>=0.28.4 in /opt/anaconda3/lib/python3.12/site-packages (from jsonschema>=4.18.0->jupyterlab-server<3,>=2.27.1->notebook>=4.4.1->widgetsnbextension~=3.6.6->ipywidgets) (0.30.2)\n",
      "Requirement already satisfied: rpds-py>=0.7.1 in /opt/anaconda3/lib/python3.12/site-packages (from jsonschema>=4.18.0->jupyterlab-server<3,>=2.27.1->notebook>=4.4.1->widgetsnbextension~=3.6.6->ipywidgets) (0.10.6)\n",
      "Requirement already satisfied: python-dateutil>=2.8.2 in /opt/anaconda3/lib/python3.12/site-packages (from jupyter-client>=7.4.4->jupyter-server<3,>=2.4.0->notebook>=4.4.1->widgetsnbextension~=3.6.6->ipywidgets) (2.9.0.post0)\n",
      "Requirement already satisfied: platformdirs>=2.5 in /opt/anaconda3/lib/python3.12/site-packages (from jupyter-core!=5.0.*,>=4.12->jupyter-server<3,>=2.4.0->notebook>=4.4.1->widgetsnbextension~=3.6.6->ipywidgets) (3.10.0)\n",
      "Requirement already satisfied: python-json-logger>=2.0.4 in /opt/anaconda3/lib/python3.12/site-packages (from jupyter-events>=0.9.0->jupyter-server<3,>=2.4.0->notebook>=4.4.1->widgetsnbextension~=3.6.6->ipywidgets) (2.0.7)\n",
      "Requirement already satisfied: pyyaml>=5.3 in /opt/anaconda3/lib/python3.12/site-packages (from jupyter-events>=0.9.0->jupyter-server<3,>=2.4.0->notebook>=4.4.1->widgetsnbextension~=3.6.6->ipywidgets) (6.0.1)\n",
      "Requirement already satisfied: rfc3339-validator in /opt/anaconda3/lib/python3.12/site-packages (from jupyter-events>=0.9.0->jupyter-server<3,>=2.4.0->notebook>=4.4.1->widgetsnbextension~=3.6.6->ipywidgets) (0.1.4)\n",
      "Requirement already satisfied: rfc3986-validator>=0.1.1 in /opt/anaconda3/lib/python3.12/site-packages (from jupyter-events>=0.9.0->jupyter-server<3,>=2.4.0->notebook>=4.4.1->widgetsnbextension~=3.6.6->ipywidgets) (0.1.1)\n",
      "Requirement already satisfied: beautifulsoup4 in /opt/anaconda3/lib/python3.12/site-packages (from nbconvert>=6.4.4->jupyter-server<3,>=2.4.0->notebook>=4.4.1->widgetsnbextension~=3.6.6->ipywidgets) (4.12.3)\n",
      "Requirement already satisfied: bleach!=5.0.0 in /opt/anaconda3/lib/python3.12/site-packages (from nbconvert>=6.4.4->jupyter-server<3,>=2.4.0->notebook>=4.4.1->widgetsnbextension~=3.6.6->ipywidgets) (4.1.0)\n",
      "Requirement already satisfied: defusedxml in /opt/anaconda3/lib/python3.12/site-packages (from nbconvert>=6.4.4->jupyter-server<3,>=2.4.0->notebook>=4.4.1->widgetsnbextension~=3.6.6->ipywidgets) (0.7.1)\n",
      "Requirement already satisfied: jupyterlab-pygments in /opt/anaconda3/lib/python3.12/site-packages (from nbconvert>=6.4.4->jupyter-server<3,>=2.4.0->notebook>=4.4.1->widgetsnbextension~=3.6.6->ipywidgets) (0.1.2)\n",
      "Requirement already satisfied: mistune<4,>=2.0.3 in /opt/anaconda3/lib/python3.12/site-packages (from nbconvert>=6.4.4->jupyter-server<3,>=2.4.0->notebook>=4.4.1->widgetsnbextension~=3.6.6->ipywidgets) (2.0.4)\n",
      "Requirement already satisfied: nbclient>=0.5.0 in /opt/anaconda3/lib/python3.12/site-packages (from nbconvert>=6.4.4->jupyter-server<3,>=2.4.0->notebook>=4.4.1->widgetsnbextension~=3.6.6->ipywidgets) (0.8.0)\n",
      "Requirement already satisfied: pandocfilters>=1.4.1 in /opt/anaconda3/lib/python3.12/site-packages (from nbconvert>=6.4.4->jupyter-server<3,>=2.4.0->notebook>=4.4.1->widgetsnbextension~=3.6.6->ipywidgets) (1.5.0)\n",
      "Requirement already satisfied: tinycss2 in /opt/anaconda3/lib/python3.12/site-packages (from nbconvert>=6.4.4->jupyter-server<3,>=2.4.0->notebook>=4.4.1->widgetsnbextension~=3.6.6->ipywidgets) (1.2.1)\n",
      "Requirement already satisfied: fastjsonschema>=2.15 in /opt/anaconda3/lib/python3.12/site-packages (from nbformat>=5.3.0->jupyter-server<3,>=2.4.0->notebook>=4.4.1->widgetsnbextension~=3.6.6->ipywidgets) (2.16.2)\n",
      "Requirement already satisfied: charset-normalizer<4,>=2 in /opt/anaconda3/lib/python3.12/site-packages (from requests>=2.31->jupyterlab-server<3,>=2.27.1->notebook>=4.4.1->widgetsnbextension~=3.6.6->ipywidgets) (3.3.2)\n",
      "Requirement already satisfied: urllib3<3,>=1.21.1 in /opt/anaconda3/lib/python3.12/site-packages (from requests>=2.31->jupyterlab-server<3,>=2.27.1->notebook>=4.4.1->widgetsnbextension~=3.6.6->ipywidgets) (2.2.3)\n",
      "Requirement already satisfied: webencodings in /opt/anaconda3/lib/python3.12/site-packages (from bleach!=5.0.0->nbconvert>=6.4.4->jupyter-server<3,>=2.4.0->notebook>=4.4.1->widgetsnbextension~=3.6.6->ipywidgets) (0.5.1)\n",
      "Requirement already satisfied: fqdn in /opt/anaconda3/lib/python3.12/site-packages (from jsonschema[format-nongpl]>=4.18.0->jupyter-events>=0.9.0->jupyter-server<3,>=2.4.0->notebook>=4.4.1->widgetsnbextension~=3.6.6->ipywidgets) (1.5.1)\n",
      "Requirement already satisfied: isoduration in /opt/anaconda3/lib/python3.12/site-packages (from jsonschema[format-nongpl]>=4.18.0->jupyter-events>=0.9.0->jupyter-server<3,>=2.4.0->notebook>=4.4.1->widgetsnbextension~=3.6.6->ipywidgets) (20.11.0)\n",
      "Requirement already satisfied: jsonpointer>1.13 in /opt/anaconda3/lib/python3.12/site-packages (from jsonschema[format-nongpl]>=4.18.0->jupyter-events>=0.9.0->jupyter-server<3,>=2.4.0->notebook>=4.4.1->widgetsnbextension~=3.6.6->ipywidgets) (2.1)\n",
      "Requirement already satisfied: uri-template in /opt/anaconda3/lib/python3.12/site-packages (from jsonschema[format-nongpl]>=4.18.0->jupyter-events>=0.9.0->jupyter-server<3,>=2.4.0->notebook>=4.4.1->widgetsnbextension~=3.6.6->ipywidgets) (1.3.0)\n",
      "Requirement already satisfied: webcolors>=24.6.0 in /opt/anaconda3/lib/python3.12/site-packages (from jsonschema[format-nongpl]>=4.18.0->jupyter-events>=0.9.0->jupyter-server<3,>=2.4.0->notebook>=4.4.1->widgetsnbextension~=3.6.6->ipywidgets) (24.11.1)\n",
      "Requirement already satisfied: cffi>=1.0.1 in /opt/anaconda3/lib/python3.12/site-packages (from argon2-cffi-bindings->argon2-cffi>=21.1->jupyter-server<3,>=2.4.0->notebook>=4.4.1->widgetsnbextension~=3.6.6->ipywidgets) (1.17.1)\n",
      "Requirement already satisfied: soupsieve>1.2 in /opt/anaconda3/lib/python3.12/site-packages (from beautifulsoup4->nbconvert>=6.4.4->jupyter-server<3,>=2.4.0->notebook>=4.4.1->widgetsnbextension~=3.6.6->ipywidgets) (2.5)\n",
      "Requirement already satisfied: pycparser in /opt/anaconda3/lib/python3.12/site-packages (from cffi>=1.0.1->argon2-cffi-bindings->argon2-cffi>=21.1->jupyter-server<3,>=2.4.0->notebook>=4.4.1->widgetsnbextension~=3.6.6->ipywidgets) (2.21)\n",
      "Requirement already satisfied: arrow>=0.15.0 in /opt/anaconda3/lib/python3.12/site-packages (from isoduration->jsonschema[format-nongpl]>=4.18.0->jupyter-events>=0.9.0->jupyter-server<3,>=2.4.0->notebook>=4.4.1->widgetsnbextension~=3.6.6->ipywidgets) (1.2.3)\n"
     ]
    }
   ],
   "source": [
    "# Install some magic to make c programs look nice!\n",
    "!curl -o ./cpp_saver.py https://raw.githubusercontent.com/COSC-169-23-F25/helpers/refs/heads/main/cpp_saver.py\n",
    "%load_ext cpp_saver"
   ]
  },
  {
   "cell_type": "markdown",
   "metadata": {
    "id": "FSLXOUeo5qR1"
   },
   "source": [
    "#### Navigating\n",
    "Nice, now that we've installed this plugin, let's expore where things will go.  We can use the command line to view all files in the current working directory by using the `ls` command. We can also use the `ls -al` command to view all files (including hidden ones) along with additonal information about each file. Note: in Google Colab all command line commands need to be preceeded by a `!` or through a special function like `%%writefile` as shown above."
   ]
  },
  {
   "cell_type": "code",
   "execution_count": 3,
   "metadata": {
    "colab": {
     "base_uri": "https://localhost:8080/"
    },
    "id": "oi1mD_pB5qR1",
    "outputId": "1fca1a9c-283c-4358-b29d-b9588c170c43"
   },
   "outputs": [
    {
     "name": "stdout",
     "output_type": "stream",
     "text": [
      "total 52040\n",
      "drwxr-xr-x   13 user  staff       416 Sep 16 23:14 \u001b[34m.\u001b[m\u001b[m\n",
      "drwxr-xr-x+ 104 user  staff      3328 Sep 15 21:24 \u001b[34m..\u001b[m\u001b[m\n",
      "drwxr-xr-x   15 user  staff       480 Sep 15 21:22 \u001b[34m.git\u001b[m\u001b[m\n",
      "drwxr-xr-x    3 user  staff        96 Sep 16 23:14 \u001b[34m__pycache__\u001b[m\u001b[m\n",
      "-rw-r--r--    1 user  staff      2599 Sep 16 23:14 cpp_saver.py\n",
      "-rwxr-xr-x    1 user  staff     15752 Sep 15 21:03 \u001b[31mcs1lib.py\u001b[m\u001b[m\n",
      "-rw-r--r--    1 user  staff   5626222 Sep 14 12:42 data_challenge_airline.ipynb\n",
      "-rw-r--r--    1 user  staff  19024828 Sep 14 12:42 data_wrangling_and_eda_with_python.ipynb\n",
      "-rw-r--r--    1 user  staff   1897830 Sep 14 12:42 image identification.ipynb\n",
      "-rw-r--r--    1 user  staff         0 Sep 14 12:13 index.py\n",
      "-rw-r--r--    1 user  staff     16231 Sep 15 21:22 matching_algorithm.py\n",
      "-rw-r--r--    1 user  staff     47992 Sep 16 23:12 ps0.ipynb\n",
      "-rw-r--r--    1 user  staff        21 Sep 15 21:22 requirements.txt\n"
     ]
    }
   ],
   "source": [
    "!ls -al"
   ]
  },
  {
   "cell_type": "markdown",
   "metadata": {
    "id": "PYo5j0aM5qR1"
   },
   "source": [
    "#### Using the Plugin\n",
    "To use the plugin, we'll simply add a `%%cpp -n [your_filename].c` line to the start of each code block in our interactive notebook.  Then we can write our `C` or `C++` as we wish!  This will take the C++ you write below in the cell and save it to that file.  Let's try it for a simple `Hello, World!`"
   ]
  },
  {
   "cell_type": "code",
   "execution_count": 4,
   "metadata": {
    "id": "VXUVlbBI5qR2"
   },
   "outputs": [],
   "source": [
    "%%cpp -n hello.cpp\n",
    "\n",
    "#include <cstdio>\n",
    "int main() {\n",
    "    // C and C++ programs start executing from the main function\n",
    "    // the main function returns an integer (it needs to be \"typed\")\n",
    "    printf(\"Hello, Dartmouth!\\n\");\n",
    "    return 0;\n",
    "}"
   ]
  },
  {
   "cell_type": "markdown",
   "metadata": {
    "id": "AOwxxuFA5qR2"
   },
   "source": [
    "You'll see that we have successfully made the `hello.cpp` file in the current folder (which is referred to as `.`). We can also create folders by using the command `mkdir` and move files into that folder with the `mv` command (the `cp` command works similarly and copies files).  You can change directories (move your current position from folder to folder) using `cd` but this sort of stuff starts to break down in our Colab/`.ipynb` world, so we won't do much of this.  All of the `.cpp` files and executables we generate will get dumped in the same directory as your `.ipynb` file."
   ]
  },
  {
   "cell_type": "markdown",
   "metadata": {
    "id": "EmexY2AR5qR2"
   },
   "source": [
    "#### Compiling and Running\n",
    "We've captured our input to a file, but let's actually compile and run!  Let's now compile and run our code.  As a compiled language you need to first run a compiler over an `C` code to produce binary code that the computer can then run. While this two step process may seem cumbersome to those of you coming from a mostly Python background, this allows for additional optimizations for runtime. Below is a figure from Dive into Systems that shows this visually!\n",
    "\n",
    "![compile](https://diveintosystems.org/singlepage/book/modules/C_intro/assets/images/compile.png)"
   ]
  },
  {
   "cell_type": "code",
   "execution_count": 6,
   "metadata": {
    "id": "ISZ0ZgNW5qR2"
   },
   "outputs": [],
   "source": [
    "# Now lets compile our code into a working file!\n",
    "!g++ hello.cpp -o hello"
   ]
  },
  {
   "cell_type": "markdown",
   "metadata": {
    "id": "mqdZdqa35qR2"
   },
   "source": [
    "At this stage, you might find tons of pesky errors in your code and cryptic compilation errors.  Start at the top of the output and work on each line of code that the compiler error mentions until you fix all errors!  Google and StackOverflow are always useful for this!"
   ]
  },
  {
   "cell_type": "code",
   "execution_count": 7,
   "metadata": {
    "colab": {
     "base_uri": "https://localhost:8080/"
    },
    "id": "TgCCYaIR5qR3",
    "outputId": "52f600c5-3735-4e84-e6f9-ba8c28f19a5b"
   },
   "outputs": [
    {
     "name": "stdout",
     "output_type": "stream",
     "text": [
      "Hello, Dartmouth!\n"
     ]
    }
   ],
   "source": [
    "# And now lets run that code!\n",
    "!./hello"
   ]
  },
  {
   "cell_type": "markdown",
   "metadata": {
    "deletable": false,
    "editable": false,
    "id": "JCTgNkzz5qR3"
   },
   "source": [
    "## Problem 1: C++ Basics\n",
    "**Note**: our autograder requires that your output matches exactly the form we provide as example\n",
    "\n",
    "### Part A: Basic Syntax and I/O\n",
    "Write a simple C++ program that copies and inputted integer, doubles the copy, and prints the original and doubled version using `printf()` (since CUDA and `std::cout` don't play nicely) like so:\n",
    "\n",
    "```text\n",
    "Original: 1\n",
    "Doubled: 2\n",
    "```\n",
    "This will become very handy for quick CUDA debugging. For more information on `printf()` and format codes like `%.1f` and `%d` and special characters like `\\n` please see: https://en.cppreference.com/w/c/io/fprintf.\n",
    "\n",
    "*Hint: those codes/characters just might be useful in your answer!*\n",
    "\n",
    "### Part B: Control Structures\n",
    "Extend your program to check if the number is `positive`, `negative`, or `zero`, and print a message exactly as follows like so but with the respective pieces for a given input:\n",
    "\n",
    "```text\n",
    "Original: 1\n",
    "Doubled: 2\n",
    "Original is: positive\n",
    "```\n"
   ]
  },
  {
   "cell_type": "code",
   "execution_count": null,
   "metadata": {
    "id": "qqtWMxOc5qR3",
    "tags": [
     "otter_answer_cell"
    ]
   },
   "outputs": [],
   "source": [
    "%%cpp -n basic_io.cpp\n",
    "\n",
    "#include <cstdio>       // for printf\n",
    "#include <string>       // for std::stoi\n",
    "\n",
    "int main(int argc, char *argv[]) {\n",
    "\n",
    "    // Check if the correct number of arguments are provided\n",
    "    if (argc < 2) {\n",
    "        printf(\"Usage: %s <number>\\n\", argv[0]);\n",
    "        return 1;\n",
    "    }\n",
    "\n",
    "    // Convert the first argument to an integer\n",
    "    int input_val = std::stoi(argv[1]);\n",
    "\n",
    "    /* Part A: Basic Syntax and I/O */\n",
    "    // Double the number\n",
    "    // TODO\n",
    "    ...\n",
    "    ...\n",
    "    // Print original and new\n",
    "    // TODO\n",
    "    ...\n",
    "    ...\n",
    "\n",
    "    /* Part B: Control Structures */\n",
    "    // Print the sign\n",
    "    // TODO\n",
    "    ...\n",
    "    ...\n",
    "    ...\n",
    "    ...\n",
    "    ...\n",
    "    ...\n",
    "    ...\n",
    "\n",
    "    return 0;\n",
    "}"
   ]
  },
  {
   "cell_type": "markdown",
   "metadata": {
    "deletable": false,
    "editable": false,
    "id": "DctNMuhD5qR3"
   },
   "source": [
    "#### Let's compile and run it\n",
    "Hopefully, you get the same output as we suggested.  You might have to deal with those pesky errors, first!"
   ]
  },
  {
   "cell_type": "code",
   "execution_count": null,
   "metadata": {
    "colab": {
     "base_uri": "https://localhost:8080/"
    },
    "deletable": false,
    "editable": false,
    "id": "lhSsBt235qR3",
    "otter": {
     "tests": [
      "q1-basics"
     ]
    },
    "outputId": "f6318ca6-b7b4-4c2d-82a0-dcae7fc75c02"
   },
   "outputs": [],
   "source": [
    "!g++ basic_io.cpp -o basic_io\n",
    "!./basic_io 1"
   ]
  },
  {
   "cell_type": "markdown",
   "metadata": {
    "deletable": false,
    "editable": false,
    "id": "npYyIrHQ5qR3"
   },
   "source": [
    "\n",
    "## Problem 2: Arrays, Looping, and Indexing\n",
    "\n",
    "Write a program that initializes an array of 10 integers, fills it with the numbers `n` through `n+10`, where `n` was provided as input. Then calculate the sum of the array elements.\n",
    "\n",
    "Print the array by calling our `print_array()` function and then print the sum, so your output should look **exactly** like the following for an input of starting integer 1:\n",
    "\n",
    "```text\n",
    "Array elements: 1, 2, 3, 4, 5, 6, 7, 8, 9, 10,\n",
    "Sum: 55\n",
    "```\n"
   ]
  },
  {
   "cell_type": "code",
   "execution_count": null,
   "metadata": {
    "id": "uNqXs-4Y5qR4",
    "tags": [
     "otter_answer_cell"
    ]
   },
   "outputs": [],
   "source": [
    "%%cpp -n arrays.cpp\n",
    "\n",
    "#include <cstdio>       // for printf\n",
    "#include <string>       // for std::stoi\n",
    "\n",
    "// Another function for printing\n",
    "void print_array(int arr[], int size) {\n",
    "    printf(\"Array elements: \");\n",
    "    for (int i = 0; i < size; i++) {\n",
    "        printf(\"%d, \", arr[i]);\n",
    "    }\n",
    "    printf(\"\\n\");\n",
    "}\n",
    "\n",
    "int main(int argc, char *argv[]) {\n",
    "\n",
    "    // Check if the correct number of arguments are provided\n",
    "    if (argc < 2) {\n",
    "        printf(\"Usage: %s <number>\\n\", argv[0]);\n",
    "        return 1;\n",
    "    }\n",
    "\n",
    "    // Convert the first argument to an integer\n",
    "    int input_val = std::stoi(argv[1]);\n",
    "\n",
    "    int arr[10];\n",
    "    int sum = 0;\n",
    "\n",
    "    // Fill the array with the specified values and print the array\n",
    "    // TODO\n",
    "    ...\n",
    "    ...\n",
    "    ...\n",
    "    ...\n",
    "    ...\n",
    "    // Calculate the sum of array elements and print the sum\n",
    "    // TODO\n",
    "    ...\n",
    "    ...\n",
    "    ...\n",
    "    ...\n",
    "\n",
    "    return 0;\n",
    "}"
   ]
  },
  {
   "cell_type": "markdown",
   "metadata": {
    "deletable": false,
    "editable": false,
    "id": "jTiFwITT5qR4"
   },
   "source": [
    "#### Compile and Run\n",
    "Do you get the same output as we suggested?  If not, revisit your implementation!"
   ]
  },
  {
   "cell_type": "code",
   "execution_count": null,
   "metadata": {
    "colab": {
     "base_uri": "https://localhost:8080/"
    },
    "deletable": false,
    "editable": false,
    "id": "ujZg79YH5qR4",
    "otter": {
     "tests": [
      "q2-arrays"
     ]
    },
    "outputId": "c3886bee-652f-4c6f-95a0-0d8685626205"
   },
   "outputs": [],
   "source": [
    "!g++ arrays.cpp -o arrays\n",
    "!./arrays 1"
   ]
  },
  {
   "cell_type": "markdown",
   "metadata": {
    "deletable": false,
    "editable": false,
    "id": "QkX1X7OT5qR5"
   },
   "source": [
    "\n",
    "## Problem 3: Dynamic Memory with Pointers\n",
    "\n",
    "Repeat Problem 2 but with a program that *dynamically* allocates memory for an array of integers and deallocates.\n",
    "\n",
    "Ensure your program handles potential memory leaks or dangling pointers.\n"
   ]
  },
  {
   "cell_type": "markdown",
   "metadata": {
    "deletable": false,
    "editable": false,
    "id": "KEgLnNnH5qR5"
   },
   "source": [
    "#### An Aside on Pointers\n",
    "\n",
    "In C we get to directly modify memory addresses. This allows us significantly more control over data movement which we will leverage in this course for acceleration. However, it also can lead to lots of security vulnerabilities and so we'll need to be careful when using pointers.\n",
    "\n",
    "Ok so what is a pointer? **A pointer is a special kind of variable which holds a memory address!** Aka it \"points\" at the place in memeory where some value is stored. It turns out that is just what object variables are in Java and Python but in C we are able to treat them simply as numbers and manipulate them a lot more! This also means we can simply pass compact numbers from one function to another instead of all of the data! Below is an image from Dive into Systems that shows this graphically.\n",
    "\n",
    "![pointer](https://diveintosystems.org/singlepage/book/modules/C_depth/assets/images/ptr.png)"
   ]
  },
  {
   "cell_type": "markdown",
   "metadata": {
    "deletable": false,
    "editable": false,
    "id": "33309rMt5qR5"
   },
   "source": [
    "Programs often allocate memory dynamically to tailor the size of an array for a particular run.  They \"point\" to that allocation via a \"pointer.\"\n",
    "\n",
    "We allocate memory using\n",
    "```cpp\n",
    "int* my_pointer = (int*) malloc(sizeof(int))\n",
    "```\n",
    "You may need to increase the size passed to `malloc()` if you're allocating more than a single integer.  And you may need to change the type of pointer and the casting (just preceding `malloc()`) if you're allocating space for a different type.\n",
    "\n",
    "For good practice, you might want to check if the pointer is `nullptr` and error if so.\n",
    "\n",
    "When you're done using the dynamically allocated memory, be sure to call `free(my_pointer)`.  (It's important to keep track of the memory that has been allocated dynamically, as forgetting to deallocate it can cause memory leaks and may lead to other memory-related problems in the future.)"
   ]
  },
  {
   "cell_type": "markdown",
   "metadata": {
    "deletable": false,
    "editable": false,
    "id": "DhR_r9bQ5qR8"
   },
   "source": [
    "#### Problem 3 (repeated)\n",
    "\n",
    "Write a program that allocates space for an array of 10 integers, then fill it with the numbers `n` through `n+10`, where `n` was provided as input. Then calculate the sum of the array elements.\n",
    "\n",
    "Print the array by calling our `print_array()` function and then print the sum, so your output should look **exactly** like the following for an input of starting integer 1:\n",
    "\n",
    "```text\n",
    "Array elements: 1, 2, 3, 4, 5, 6, 7, 8, 9, 10,\n",
    "Sum: 55\n",
    "```"
   ]
  },
  {
   "cell_type": "code",
   "execution_count": null,
   "metadata": {
    "id": "SIF_ocrl5qR8",
    "tags": [
     "otter_answer_cell"
    ]
   },
   "outputs": [],
   "source": [
    "%%cpp -n dynamic.cpp\n",
    "\n",
    "#include <cstdio>       // for printf\n",
    "#include <string>       // for std::stoi\n",
    "\n",
    "void print_array(int* arr, int size) {\n",
    "    printf(\"Array elements: \");\n",
    "    for (int i = 0; i < size; i++) {\n",
    "        printf(\"%d, \", arr[i]);\n",
    "    }\n",
    "    printf(\"\\n\");\n",
    "}\n",
    "\n",
    "int main(int argc, char *argv[]) {\n",
    "\n",
    "    // Check if the correct number of arguments are provided\n",
    "    if (argc < 2) {\n",
    "        printf(\"Usage: %s <number>\\n\", argv[0]);\n",
    "        return 1;\n",
    "    }\n",
    "\n",
    "    // Convert the first argument to an integer\n",
    "    int input_val = std::stoi(argv[1]);\n",
    "    int arr_size = 10;\n",
    "\n",
    "    // Dynamically allocate memory for the array\n",
    "    // TODO\n",
    "    ...\n",
    "    ...\n",
    "    // Fill the array with the specified values and print the array\n",
    "    // TODO\n",
    "    ...\n",
    "    ...\n",
    "    ...\n",
    "    ...\n",
    "    ...\n",
    "    ...\n",
    "    // Calculate the sum of array elements and print the sum\n",
    "    // TODO\n",
    "    ...\n",
    "    ...\n",
    "    ...\n",
    "    ...\n",
    "    ...\n",
    "    ...\n",
    "    ...\n",
    "    ...\n",
    "    ...\n",
    "\n",
    "    return 0;\n",
    "}"
   ]
  },
  {
   "cell_type": "markdown",
   "metadata": {
    "deletable": false,
    "editable": false,
    "id": "ptRichCa5qR9"
   },
   "source": [
    "#### Compile and Run\n",
    "Do you get the same output as we suggested?  If not, revisit your implementation!"
   ]
  },
  {
   "cell_type": "code",
   "execution_count": null,
   "metadata": {
    "colab": {
     "base_uri": "https://localhost:8080/"
    },
    "deletable": false,
    "editable": false,
    "id": "YOuqCLOK5qR9",
    "otter": {
     "tests": [
      "q3-dynamic"
     ]
    },
    "outputId": "aab1f319-38e4-4877-dcbe-0bc4227dfe3a"
   },
   "outputs": [],
   "source": [
    "!g++ dynamic.cpp -o dynamic\n",
    "!./dynamic 1"
   ]
  },
  {
   "cell_type": "markdown",
   "metadata": {
    "deletable": false,
    "editable": false,
    "id": "Fzfarl125qR9"
   },
   "source": [
    "\n",
    "## Problem 4: Templates\n",
    "\n",
    "Some of the difficulty of the \"strict-typed\" nature of `C++` can be eased by using \"templates.\"  Templates allow you to define generic classes (blueprints for more complicated objects), functions, and more without specifying a type.  Then when you use the templated function, for example, you can explicitly set the type or let the compiler infer it.  This allows for writing generic code without having to copy-and-paste lots of implementations.\n",
    "\n",
    "Take, for example, a simple classroom example where I want to write a function that adds one to a value.  Unlike Python which would happily let me define such a function without specifying the input type, in `C++`, I would need to be explicit:\n",
    "\n",
    "```cpp\n",
    "int addOne(int a) {\n",
    "    return a + 1;\n",
    "}\n",
    "\n",
    "float addOne(float a) {\n",
    "    return a + 1.0f;\n",
    "}\n",
    "\n",
    "long addOne(long a) {\n",
    "    return a + 1;\n",
    "}\n",
    "\n",
    "double addOne(double a) {\n",
    "    return a + 1.0;\n",
    "}\n",
    "```\n",
    "\n",
    "This is obviously tedious, prone to error, and makes it hard to change code because I'd need to change 4 places.  Instead, I could use a template for both the argument and return type, and then when I call the function, the types get set in place:\n",
    "\n",
    "```cpp\n",
    "template <typename T>\n",
    "T addOne(T a) {\n",
    "    return a + 1\n",
    "}\n",
    "\n",
    "int main(void) {\n",
    "    long long my_numb = 3159;\n",
    "    long long result = addOne(my_numb);\n",
    "    // or instead of relying on automatic template deduction\n",
    "    // you could call addOne<long long>(my_numb);\n",
    "\n",
    "    printf(\"My value + 1: %lld\\n\", result);\n",
    "}\n",
    "```"
   ]
  },
  {
   "cell_type": "markdown",
   "metadata": {
    "deletable": false,
    "editable": false,
    "id": "ipyP6Pcs5qR9"
   },
   "source": [
    "#### Your Turn!\n",
    "\n",
    "Create a template function for `max()` that takes two arguments of any type and returns the larger of the two. Feel free to test your function with different data types (e.g., integers, doubles, and strings) and just use local variables that you set yourself and comment our code that handles the commandline args.  \n",
    "\n",
    "When you're done, put back our commandline argument handling code and we'll test exactly these inputs and expect exactly the output shown (be careful with the number of decimal places for your floating point output):\n",
    "\n",
    "```text\n",
    "./templates float 4.5 3.1\n",
    "Max of 4.5 and 3.1 is 4.5\n",
    "\n",
    "./templates int 1 10\n",
    "Max of 1 and 10 is 10\n",
    "```"
   ]
  },
  {
   "cell_type": "code",
   "execution_count": null,
   "metadata": {
    "id": "JmO7T6qO5qR9",
    "tags": [
     "otter_answer_cell"
    ]
   },
   "outputs": [],
   "source": [
    "%%cpp -n templates.cpp\n",
    "\n",
    "#include <cstdio>\n",
    "#include <string>\n",
    "\n",
    "...\n",
    "...\n",
    "...\n",
    "...\n",
    "\n",
    "int main(int argc, char* argv[]) {\n",
    "    if (argc != 4) {\n",
    "        printf(\"Usage: %s <type> <value1> <value2>\\n\", argv[0]);\n",
    "        return 1;\n",
    "    }\n",
    "\n",
    "    std::string type = argv[1];\n",
    "    std::string val1 = argv[2];\n",
    "    std::string val2 = argv[3];\n",
    "\n",
    "    if (type == \"int\") {\n",
    "        int a = std::stoi(val1);\n",
    "        int b = std::stoi(val2);\n",
    "        // TODO: Compute and print the integer case!\n",
    "        ...\n",
    "    }\n",
    "    else if (type == \"float\") {\n",
    "        float a = std::stof(val1);\n",
    "        float b = std::stof(val2);\n",
    "        // TODO: Compute and print the float case!\n",
    "        ...\n",
    "    }\n",
    "    else {\n",
    "        printf(\"Unsupported type: %s\\n\", type.c_str());\n",
    "        return 1;\n",
    "    }\n",
    "\n",
    "    return 0;\n",
    "}\n"
   ]
  },
  {
   "cell_type": "markdown",
   "metadata": {
    "deletable": false,
    "editable": false,
    "id": "EefiY3FK5qR-",
    "vscode": {
     "languageId": "raw"
    }
   },
   "source": [
    "#### Compile and Run\n",
    "Do you get the same output as we suggested?  If not, revisit your implementation!"
   ]
  },
  {
   "cell_type": "code",
   "execution_count": null,
   "metadata": {
    "colab": {
     "base_uri": "https://localhost:8080/"
    },
    "deletable": false,
    "editable": false,
    "id": "p925h_-Q5qR-",
    "otter": {
     "tests": [
      "q4-templates"
     ]
    },
    "outputId": "a608c952-e4bd-4f42-d095-84b2f95a8a84"
   },
   "outputs": [],
   "source": [
    "!g++ templates.cpp -o templates\n",
    "!./templates float 4.5 3.1\n",
    "!./templates int 1 10"
   ]
  },
  {
   "cell_type": "markdown",
   "metadata": {
    "deletable": false,
    "editable": false,
    "id": "e603gAVC5qR-",
    "vscode": {
     "languageId": "raw"
    }
   },
   "source": [
    "---\n",
    "\n",
    "\n",
    "## Problem 5: Python Matrix Multiplication\n",
    "\n",
    "In class, we've been discussing the performance of various matrix operations and the possibility of using parallelism to improve our efficiency (loosely defined).  The next problem set coding assignments will explore this in greater detail and with a slew of benchmarking, but for now, let's remind ourselves how to code the naïve algorithm for matrix multiplication but using Python (as it's easier to start this way than in C/C++).\n",
    "\n",
    "In the written part of PS0, you likely reacquainted yourself with the standard matrix multiplication algorithm:\n",
    "$$C_{ij} = \\sum_{k=1}^{n} A_{ik} \\times B_{kj}$$\n",
    "\n",
    "We can apply this to a simple example for the purposes of starting our lab.  Consider a matrix $A$ (in gray) which is $4\\times5$ and $B$ (blue) of dimensions $5\\times4$ whose product results in $C$ (purple) of size $4\\times4$.\n",
    "\n",
    "![matrix mult example](https://raw.githubusercontent.com/COMS-BC3159-F24/image_assets/main/matmul_example.png)\n",
    "\n",
    "We've provided the initial matrices (which we're implementing using `list`s of `list`s).  And, we've also provided a handy `printMatrix()` routine to do just what it says, print a matrix."
   ]
  },
  {
   "cell_type": "code",
   "execution_count": null,
   "metadata": {
    "id": "ygJrTjk_5qR-",
    "tags": [
     "otter_answer_cell"
    ]
   },
   "outputs": [],
   "source": [
    "def printMatrix(matrix):\n",
    "    for row in matrix:\n",
    "        print(' '.join(f'{elem:5}' for elem in row))\n",
    "\n",
    "A = [\n",
    "        [0, 1, 2, 3, 4],\n",
    "        [5, 6, 7, 8, 9],\n",
    "        [10, 11, 12, 13, 14],\n",
    "        [15, 16, 17, 18, 19]\n",
    "    ]\n",
    "\n",
    "B = [\n",
    "        [20, 21, 22, 23],\n",
    "        [24, 25, 26, 27],\n",
    "        [28, 29, 30, 31],\n",
    "        [32, 33, 34, 35],\n",
    "        [36, 37, 38, 39]\n",
    "    ]"
   ]
  },
  {
   "cell_type": "code",
   "execution_count": null,
   "metadata": {
    "colab": {
     "base_uri": "https://localhost:8080/"
    },
    "id": "Wst8q6-n5qR_",
    "otter": {
     "tests": [
      "q5-matmul"
     ]
    },
    "outputId": "5fa1cba2-2602-403e-88d0-416b83820508",
    "tags": [
     "otter_answer_cell"
    ]
   },
   "outputs": [],
   "source": [
    "def matrix_multiply(A, B):\n",
    "    ...\n",
    "    return C\n",
    "\n",
    "C = matrix_multiply(A, B)\n",
    "printMatrix(C)"
   ]
  },
  {
   "cell_type": "markdown",
   "metadata": {},
   "source": [
    " "
   ]
  }
 ],
 "metadata": {
  "colab": {
   "provenance": []
  },
  "kernelspec": {
   "display_name": "base",
   "language": "python",
   "name": "python3"
  },
  "language_info": {
   "codemirror_mode": {
    "name": "ipython",
    "version": 3
   },
   "file_extension": ".py",
   "mimetype": "text/x-python",
   "name": "python",
   "nbconvert_exporter": "python",
   "pygments_lexer": "ipython3",
   "version": "3.12.7"
  },
  "otter": {
   "OK_FORMAT": true,
   "tests": {
    "q1-basics": {
     "name": "q1-basics",
     "points": 2,
     "suites": [
      {
       "cases": [],
       "scored": true,
       "setup": "",
       "teardown": "",
       "type": "doctest"
      }
     ]
    },
    "q2-arrays": {
     "name": "q2-arrays",
     "points": 2,
     "suites": [
      {
       "cases": [],
       "scored": true,
       "setup": "",
       "teardown": "",
       "type": "doctest"
      }
     ]
    },
    "q3-dynamic": {
     "name": "q3-dynamic",
     "points": 2,
     "suites": [
      {
       "cases": [],
       "scored": true,
       "setup": "",
       "teardown": "",
       "type": "doctest"
      }
     ]
    },
    "q4-templates": {
     "name": "q4-templates",
     "points": 2,
     "suites": [
      {
       "cases": [],
       "scored": true,
       "setup": "",
       "teardown": "",
       "type": "doctest"
      }
     ]
    },
    "q5-matmul": {
     "name": "q5-matmul",
     "points": 2,
     "suites": [
      {
       "cases": [],
       "scored": true,
       "setup": "",
       "teardown": "",
       "type": "doctest"
      }
     ]
    }
   }
  },
  "varInspector": {
   "cols": {
    "lenName": 16,
    "lenType": 16,
    "lenVar": 40
   },
   "kernels_config": {
    "python": {
     "delete_cmd_postfix": "",
     "delete_cmd_prefix": "del ",
     "library": "var_list.py",
     "varRefreshCmd": "print(var_dic_list())"
    },
    "r": {
     "delete_cmd_postfix": ") ",
     "delete_cmd_prefix": "rm(",
     "library": "var_list.r",
     "varRefreshCmd": "cat(var_dic_list()) "
    }
   },
   "types_to_exclude": [
    "module",
    "function",
    "builtin_function_or_method",
    "instance",
    "_Feature"
   ],
   "window_display": false
  }
 },
 "nbformat": 4,
 "nbformat_minor": 0
}
